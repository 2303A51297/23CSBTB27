{
  "nbformat": 4,
  "nbformat_minor": 0,
  "metadata": {
    "colab": {
      "provenance": [],
      "authorship_tag": "ABX9TyNJ61e2UjEPijiub+7ogOv1",
      "include_colab_link": true
    },
    "kernelspec": {
      "name": "python3",
      "display_name": "Python 3"
    },
    "language_info": {
      "name": "python"
    }
  },
  "cells": [
    {
      "cell_type": "markdown",
      "metadata": {
        "id": "view-in-github",
        "colab_type": "text"
      },
      "source": [
        "<a href=\"https://colab.research.google.com/github/2303A51297/23CSBTB27/blob/main/types_of_list.ipynb\" target=\"_parent\"><img src=\"https://colab.research.google.com/assets/colab-badge.svg\" alt=\"Open In Colab\"/></a>"
      ]
    },
    {
      "cell_type": "code",
      "execution_count": 3,
      "metadata": {
        "colab": {
          "base_uri": "https://localhost:8080/"
        },
        "id": "j23htHdtjgsU",
        "outputId": "f6f5e6f4-6b38-411f-fc99-6995e3137803"
      },
      "outputs": [
        {
          "output_type": "stream",
          "name": "stdout",
          "text": [
            "{1, 2, 5, 6, 7}\n",
            "<class 'set'>\n"
          ]
        }
      ],
      "source": [
        "import numpy as np\n",
        "list={1,5,2,6,7}\n",
        "print(list)\n",
        "print(type(list))"
      ]
    },
    {
      "cell_type": "code",
      "source": [
        "import numpy as np\n",
        "list=[1,5,2,6,7]\n",
        "print(list)\n",
        "list1=[2,3,4,5,6]\n",
        "print(list1)\n",
        "print(type(list))\n",
        "print(type(list1))\n"
      ],
      "metadata": {
        "colab": {
          "base_uri": "https://localhost:8080/"
        },
        "id": "LEsY281bvei8",
        "outputId": "ce40ea75-d542-4241-c797-0f713afb4071"
      },
      "execution_count": 4,
      "outputs": [
        {
          "output_type": "stream",
          "name": "stdout",
          "text": [
            "[1, 5, 2, 6, 7]\n",
            "[2, 3, 4, 5, 6]\n",
            "<class 'list'>\n",
            "<class 'list'>\n"
          ]
        }
      ]
    },
    {
      "cell_type": "code",
      "source": [
        "list=[\"Geeks\",\"For\",\"Geeks\"]\n",
        "list2=\"my first lab\"\n",
        "list3=4.3\n",
        "list4=2j+6\n",
        "list5='my first lab'\n",
        "print(type(list2))\n",
        "print(type(list3))\n",
        "print(type(list4))\n",
        "print(type(list5))\n",
        "print(\"\\nlist Items: \")\n",
        "print(list)\n",
        "print(type(list))\n",
        "print(list[0])\n",
        "print(list[1])\n"
      ],
      "metadata": {
        "colab": {
          "base_uri": "https://localhost:8080/"
        },
        "id": "wqVwh0K-wFZZ",
        "outputId": "684c4b9b-795b-4e43-ee47-c79de9a91e41"
      },
      "execution_count": 5,
      "outputs": [
        {
          "output_type": "stream",
          "name": "stdout",
          "text": [
            "<class 'str'>\n",
            "<class 'float'>\n",
            "<class 'complex'>\n",
            "<class 'str'>\n",
            "\n",
            "list Items: \n",
            "['Geeks', 'For', 'Geeks']\n",
            "<class 'list'>\n",
            "Geeks\n",
            "For\n"
          ]
        }
      ]
    }
  ]
}
